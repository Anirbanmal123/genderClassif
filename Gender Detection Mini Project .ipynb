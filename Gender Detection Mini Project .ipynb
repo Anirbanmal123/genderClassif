{
 "cells": [
  {
   "cell_type": "code",
   "execution_count": 4,
   "id": "a4514072",
   "metadata": {},
   "outputs": [],
   "source": [
    "import numpy as np\n",
    "import pandas as pd\n",
    "import matplotlib.pyplot as plt\n",
    "import seaborn as sns \n"
   ]
  },
  {
   "cell_type": "code",
   "execution_count": 7,
   "id": "f9d706ee",
   "metadata": {},
   "outputs": [
    {
     "data": {
      "text/html": [
       "<div>\n",
       "<style scoped>\n",
       "    .dataframe tbody tr th:only-of-type {\n",
       "        vertical-align: middle;\n",
       "    }\n",
       "\n",
       "    .dataframe tbody tr th {\n",
       "        vertical-align: top;\n",
       "    }\n",
       "\n",
       "    .dataframe thead th {\n",
       "        text-align: right;\n",
       "    }\n",
       "</style>\n",
       "<table border=\"1\" class=\"dataframe\">\n",
       "  <thead>\n",
       "    <tr style=\"text-align: right;\">\n",
       "      <th></th>\n",
       "      <th>meanfreq</th>\n",
       "      <th>sd</th>\n",
       "      <th>median</th>\n",
       "      <th>Q25</th>\n",
       "      <th>Q75</th>\n",
       "      <th>IQR</th>\n",
       "      <th>skew</th>\n",
       "      <th>kurt</th>\n",
       "      <th>sp.ent</th>\n",
       "      <th>sfm</th>\n",
       "      <th>...</th>\n",
       "      <th>centroid</th>\n",
       "      <th>meanfun</th>\n",
       "      <th>minfun</th>\n",
       "      <th>maxfun</th>\n",
       "      <th>meandom</th>\n",
       "      <th>mindom</th>\n",
       "      <th>maxdom</th>\n",
       "      <th>dfrange</th>\n",
       "      <th>modindx</th>\n",
       "      <th>label</th>\n",
       "    </tr>\n",
       "  </thead>\n",
       "  <tbody>\n",
       "    <tr>\n",
       "      <th>0</th>\n",
       "      <td>0.059781</td>\n",
       "      <td>0.064241</td>\n",
       "      <td>0.032027</td>\n",
       "      <td>0.015071</td>\n",
       "      <td>0.090193</td>\n",
       "      <td>0.075122</td>\n",
       "      <td>12.863462</td>\n",
       "      <td>274.402906</td>\n",
       "      <td>0.893369</td>\n",
       "      <td>0.491918</td>\n",
       "      <td>...</td>\n",
       "      <td>0.059781</td>\n",
       "      <td>0.084279</td>\n",
       "      <td>0.015702</td>\n",
       "      <td>0.275862</td>\n",
       "      <td>0.007812</td>\n",
       "      <td>0.007812</td>\n",
       "      <td>0.007812</td>\n",
       "      <td>0.000000</td>\n",
       "      <td>0.000000</td>\n",
       "      <td>male</td>\n",
       "    </tr>\n",
       "    <tr>\n",
       "      <th>1</th>\n",
       "      <td>0.066009</td>\n",
       "      <td>0.067310</td>\n",
       "      <td>0.040229</td>\n",
       "      <td>0.019414</td>\n",
       "      <td>0.092666</td>\n",
       "      <td>0.073252</td>\n",
       "      <td>22.423285</td>\n",
       "      <td>634.613855</td>\n",
       "      <td>0.892193</td>\n",
       "      <td>0.513724</td>\n",
       "      <td>...</td>\n",
       "      <td>0.066009</td>\n",
       "      <td>0.107937</td>\n",
       "      <td>0.015826</td>\n",
       "      <td>0.250000</td>\n",
       "      <td>0.009014</td>\n",
       "      <td>0.007812</td>\n",
       "      <td>0.054688</td>\n",
       "      <td>0.046875</td>\n",
       "      <td>0.052632</td>\n",
       "      <td>male</td>\n",
       "    </tr>\n",
       "    <tr>\n",
       "      <th>2</th>\n",
       "      <td>0.077316</td>\n",
       "      <td>0.083829</td>\n",
       "      <td>0.036718</td>\n",
       "      <td>0.008701</td>\n",
       "      <td>0.131908</td>\n",
       "      <td>0.123207</td>\n",
       "      <td>30.757155</td>\n",
       "      <td>1024.927705</td>\n",
       "      <td>0.846389</td>\n",
       "      <td>0.478905</td>\n",
       "      <td>...</td>\n",
       "      <td>0.077316</td>\n",
       "      <td>0.098706</td>\n",
       "      <td>0.015656</td>\n",
       "      <td>0.271186</td>\n",
       "      <td>0.007990</td>\n",
       "      <td>0.007812</td>\n",
       "      <td>0.015625</td>\n",
       "      <td>0.007812</td>\n",
       "      <td>0.046512</td>\n",
       "      <td>male</td>\n",
       "    </tr>\n",
       "    <tr>\n",
       "      <th>3</th>\n",
       "      <td>0.151228</td>\n",
       "      <td>0.072111</td>\n",
       "      <td>0.158011</td>\n",
       "      <td>0.096582</td>\n",
       "      <td>0.207955</td>\n",
       "      <td>0.111374</td>\n",
       "      <td>1.232831</td>\n",
       "      <td>4.177296</td>\n",
       "      <td>0.963322</td>\n",
       "      <td>0.727232</td>\n",
       "      <td>...</td>\n",
       "      <td>0.151228</td>\n",
       "      <td>0.088965</td>\n",
       "      <td>0.017798</td>\n",
       "      <td>0.250000</td>\n",
       "      <td>0.201497</td>\n",
       "      <td>0.007812</td>\n",
       "      <td>0.562500</td>\n",
       "      <td>0.554688</td>\n",
       "      <td>0.247119</td>\n",
       "      <td>male</td>\n",
       "    </tr>\n",
       "    <tr>\n",
       "      <th>4</th>\n",
       "      <td>0.135120</td>\n",
       "      <td>0.079146</td>\n",
       "      <td>0.124656</td>\n",
       "      <td>0.078720</td>\n",
       "      <td>0.206045</td>\n",
       "      <td>0.127325</td>\n",
       "      <td>1.101174</td>\n",
       "      <td>4.333713</td>\n",
       "      <td>0.971955</td>\n",
       "      <td>0.783568</td>\n",
       "      <td>...</td>\n",
       "      <td>0.135120</td>\n",
       "      <td>0.106398</td>\n",
       "      <td>0.016931</td>\n",
       "      <td>0.266667</td>\n",
       "      <td>0.712812</td>\n",
       "      <td>0.007812</td>\n",
       "      <td>5.484375</td>\n",
       "      <td>5.476562</td>\n",
       "      <td>0.208274</td>\n",
       "      <td>male</td>\n",
       "    </tr>\n",
       "  </tbody>\n",
       "</table>\n",
       "<p>5 rows × 21 columns</p>\n",
       "</div>"
      ],
      "text/plain": [
       "   meanfreq        sd    median       Q25       Q75       IQR       skew  \\\n",
       "0  0.059781  0.064241  0.032027  0.015071  0.090193  0.075122  12.863462   \n",
       "1  0.066009  0.067310  0.040229  0.019414  0.092666  0.073252  22.423285   \n",
       "2  0.077316  0.083829  0.036718  0.008701  0.131908  0.123207  30.757155   \n",
       "3  0.151228  0.072111  0.158011  0.096582  0.207955  0.111374   1.232831   \n",
       "4  0.135120  0.079146  0.124656  0.078720  0.206045  0.127325   1.101174   \n",
       "\n",
       "          kurt    sp.ent       sfm  ...  centroid   meanfun    minfun  \\\n",
       "0   274.402906  0.893369  0.491918  ...  0.059781  0.084279  0.015702   \n",
       "1   634.613855  0.892193  0.513724  ...  0.066009  0.107937  0.015826   \n",
       "2  1024.927705  0.846389  0.478905  ...  0.077316  0.098706  0.015656   \n",
       "3     4.177296  0.963322  0.727232  ...  0.151228  0.088965  0.017798   \n",
       "4     4.333713  0.971955  0.783568  ...  0.135120  0.106398  0.016931   \n",
       "\n",
       "     maxfun   meandom    mindom    maxdom   dfrange   modindx  label  \n",
       "0  0.275862  0.007812  0.007812  0.007812  0.000000  0.000000   male  \n",
       "1  0.250000  0.009014  0.007812  0.054688  0.046875  0.052632   male  \n",
       "2  0.271186  0.007990  0.007812  0.015625  0.007812  0.046512   male  \n",
       "3  0.250000  0.201497  0.007812  0.562500  0.554688  0.247119   male  \n",
       "4  0.266667  0.712812  0.007812  5.484375  5.476562  0.208274   male  \n",
       "\n",
       "[5 rows x 21 columns]"
      ]
     },
     "execution_count": 7,
     "metadata": {},
     "output_type": "execute_result"
    }
   ],
   "source": [
    "df = pd.read_csv('voice.csv')\n",
    "df.head() "
   ]
  },
  {
   "cell_type": "code",
   "execution_count": 9,
   "id": "cc2bc54b",
   "metadata": {},
   "outputs": [
    {
     "data": {
      "text/plain": [
       "meanfreq    0\n",
       "sd          0\n",
       "median      0\n",
       "Q25         0\n",
       "Q75         0\n",
       "IQR         0\n",
       "skew        0\n",
       "kurt        0\n",
       "sp.ent      0\n",
       "sfm         0\n",
       "mode        0\n",
       "centroid    0\n",
       "meanfun     0\n",
       "minfun      0\n",
       "maxfun      0\n",
       "meandom     0\n",
       "mindom      0\n",
       "maxdom      0\n",
       "dfrange     0\n",
       "modindx     0\n",
       "label       0\n",
       "dtype: int64"
      ]
     },
     "execution_count": 9,
     "metadata": {},
     "output_type": "execute_result"
    }
   ],
   "source": [
    "df.isnull().sum()\n"
   ]
  },
  {
   "cell_type": "code",
   "execution_count": 74,
   "id": "c77cdc60",
   "metadata": {},
   "outputs": [
    {
     "data": {
      "text/plain": [
       "meanfreq    float64\n",
       "sd          float64\n",
       "median      float64\n",
       "Q25         float64\n",
       "Q75         float64\n",
       "IQR         float64\n",
       "skew        float64\n",
       "kurt        float64\n",
       "sp.ent      float64\n",
       "sfm         float64\n",
       "mode        float64\n",
       "centroid    float64\n",
       "meanfun     float64\n",
       "minfun      float64\n",
       "maxfun      float64\n",
       "meandom     float64\n",
       "mindom      float64\n",
       "maxdom      float64\n",
       "dfrange     float64\n",
       "modindx     float64\n",
       "label        object\n",
       "dtype: object"
      ]
     },
     "execution_count": 74,
     "metadata": {},
     "output_type": "execute_result"
    }
   ],
   "source": [
    "df.dtypes\n"
   ]
  },
  {
   "cell_type": "code",
   "execution_count": 11,
   "id": "8b5c460c",
   "metadata": {},
   "outputs": [
    {
     "data": {
      "text/plain": [
       "male      1584\n",
       "female    1584\n",
       "Name: label, dtype: int64"
      ]
     },
     "execution_count": 11,
     "metadata": {},
     "output_type": "execute_result"
    }
   ],
   "source": [
    "d1 = df['label'].value_counts()\n",
    "d1"
   ]
  },
  {
   "cell_type": "code",
   "execution_count": 77,
   "id": "5889d49c",
   "metadata": {
    "scrolled": true
   },
   "outputs": [
    {
     "data": {
      "image/png": "[encoded data removed]",
      "text/plain": [
       "<Figure size 432x288 with 1 Axes>"
      ]
     },
     "metadata": {},
     "output_type": "display_data"
    }
   ],
   "source": [
    "labels = 'male', 'female'\n",
    "sizes = [1584,1584]\n",
    "colors = ['blue','yellow']\n",
    "plt.pie(sizes, labels=labels, colors=colors, autopct = '%1.1f%%', shadow =True, startangle = 90 )\n",
    "plt.axis('equal')\n",
    "plt.show()   \n"
   ]
  },
  {
   "cell_type": "code",
   "execution_count": 18,
   "id": "52b81284",
   "metadata": {},
   "outputs": [],
   "source": [
    "from sklearn.model_selection import train_test_split"
   ]
  },
  {
   "cell_type": "code",
   "execution_count": 20,
   "id": "321586d8",
   "metadata": {},
   "outputs": [
    {
     "name": "stdout",
     "output_type": "stream",
     "text": [
      "(3168, 19) (3168,)\n",
      "<class 'pandas.core.frame.DataFrame'> <class 'pandas.core.series.Series'>\n"
     ]
    }
   ],
   "source": [
    "x = df.iloc[:,1:-1]\n",
    "y = df.iloc[:,-1]\n",
    "print(x.shape,y.shape)\n",
    "print(type(x),type(y))"
   ]
  },
  {
   "cell_type": "code",
   "execution_count": 21,
   "id": "6f2b2b54",
   "metadata": {},
   "outputs": [
    {
     "name": "stdout",
     "output_type": "stream",
     "text": [
      "(2534, 19)\n",
      "(634, 19)\n",
      "(2534,)\n",
      "(634,)\n"
     ]
    }
   ],
   "source": [
    "x_tr,x_te,y_tr,y_te = train_test_split(x,y,test_size=0.20)\n",
    "print(x_tr.shape)\n",
    "print(x_te.shape)\n",
    "print(y_tr.shape)\n",
    "print(y_te.shape)"
   ]
  },
  {
   "cell_type": "code",
   "execution_count": 23,
   "id": "ee60ed33",
   "metadata": {},
   "outputs": [],
   "source": [
    "from sklearn.linear_model import LogisticRegression\n",
    "from sklearn.tree import DecisionTreeClassifier\n",
    "from sklearn.ensemble import RandomForestClassifier\n",
    "from sklearn.svm import SVC\n",
    "from sklearn.neighbors import KNeighborsClassifier "
   ]
  },
  {
   "cell_type": "code",
   "execution_count": 24,
   "id": "61418093",
   "metadata": {},
   "outputs": [],
   "source": [
    "from sklearn.metrics import confusion_matrix,classification_report"
   ]
  },
  {
   "cell_type": "code",
   "execution_count": 25,
   "id": "79a3de12",
   "metadata": {},
   "outputs": [],
   "source": [
    "def apply_model(model):\n",
    "    model.fit(x_tr,y_tr)\n",
    "    print('Accuracy',model.score(x_te,y_te))\n",
    "    ypred = model.predict(x_te)\n",
    "    print('Predicted values\\n',ypred)\n",
    "    cm = confusion_matrix(y_te,ypred)\n",
    "    print('Confusion Matrix\\n',cm)\n",
    "    sns.heatmap(cm,annot=True)\n",
    "    plt.show()\n",
    "    print('Classification report\\n',classification_report(y_te,ypred))"
   ]
  },
  {
   "cell_type": "code",
   "execution_count": 26,
   "id": "a3909e6d",
   "metadata": {},
   "outputs": [
    {
     "name": "stderr",
     "output_type": "stream",
     "text": [
      "C:\\Users\\bidyu\\anaconda3\\lib\\site-packages\\sklearn\\linear_model\\_logistic.py:763: ConvergenceWarning: lbfgs failed to converge (status=1):\n",
      "STOP: TOTAL NO. of ITERATIONS REACHED LIMIT.\n",
      "\n",
      "Increase the number of iterations (max_iter) or scale the data as shown in:\n",
      "    https://scikit-learn.org/stable/modules/preprocessing.html\n",
      "Please also refer to the documentation for alternative solver options:\n",
      "    https://scikit-learn.org/stable/modules/linear_model.html#logistic-regression\n",
      "  n_iter_i = _check_optimize_result(\n"
     ]
    },
    {
     "name": "stdout",
     "output_type": "stream",
     "text": [
      "Accuracy 0.889589905362776\n",
      "Predicted values\n",
      " ['female' 'male' 'female' 'female' 'female' 'female' 'male' 'male'\n",
      " 'female' 'female' 'male' 'female' 'male' 'female' 'male' 'male' 'female'\n",
      " 'male' 'male' 'male' 'male' 'male' 'female' 'male' 'female' 'male' 'male'\n",
      " 'male' 'male' 'female' 'female' 'male' 'male' 'female' 'male' 'male'\n",
      " 'male' 'female' 'female' 'male' 'male' 'female' 'female' 'female' 'male'\n",
      " 'female' 'male' 'female' 'male' 'male' 'female' 'female' 'female' 'male'\n",
      " 'female' 'male' 'female' 'male' 'male' 'male' 'female' 'female' 'male'\n",
      " 'male' 'male' 'male' 'male' 'female' 'female' 'female' 'male' 'female'\n",
      " 'female' 'female' 'male' 'male' 'male' 'female' 'male' 'female' 'female'\n",
      " 'female' 'male' 'female' 'male' 'female' 'female' 'female' 'male'\n",
      " 'female' 'female' 'male' 'male' 'male' 'male' 'male' 'female' 'male'\n",
      " 'male' 'male' 'female' 'male' 'female' 'male' 'female' 'male' 'female'\n",
      " 'female' 'female' 'male' 'male' 'female' 'male' 'male' 'male' 'male'\n",
      " 'female' 'female' 'female' 'female' 'male' 'female' 'female' 'female'\n",
      " 'male' 'male' 'male' 'female' 'male' 'female' 'male' 'male' 'female'\n",
      " 'male' 'female' 'female' 'female' 'female' 'female' 'female' 'male'\n",
      " 'male' 'male' 'male' 'male' 'male' 'male' 'female' 'female' 'male'\n",
      " 'female' 'male' 'male' 'female' 'female' 'male' 'male' 'male' 'male'\n",
      " 'male' 'male' 'male' 'male' 'male' 'female' 'male' 'male' 'female'\n",
      " 'female' 'female' 'male' 'male' 'male' 'male' 'female' 'male' 'female'\n",
      " 'male' 'female' 'female' 'male' 'male' 'female' 'male' 'male' 'female'\n",
      " 'male' 'male' 'male' 'male' 'male' 'male' 'female' 'male' 'female' 'male'\n",
      " 'male' 'male' 'male' 'female' 'female' 'male' 'male' 'male' 'female'\n",
      " 'female' 'male' 'female' 'female' 'female' 'female' 'female' 'male'\n",
      " 'male' 'female' 'female' 'male' 'female' 'female' 'male' 'female' 'male'\n",
      " 'male' 'female' 'male' 'male' 'male' 'female' 'female' 'female' 'male'\n",
      " 'female' 'male' 'male' 'male' 'male' 'female' 'female' 'male' 'female'\n",
      " 'female' 'female' 'male' 'female' 'male' 'male' 'female' 'male' 'male'\n",
      " 'female' 'male' 'male' 'male' 'male' 'female' 'male' 'male' 'male'\n",
      " 'female' 'male' 'male' 'female' 'female' 'female' 'male' 'female' 'male'\n",
      " 'male' 'male' 'female' 'male' 'female' 'male' 'female' 'female' 'female'\n",
      " 'male' 'male' 'female' 'male' 'male' 'female' 'male' 'male' 'female'\n",
      " 'female' 'male' 'male' 'male' 'male' 'male' 'male' 'male' 'male' 'female'\n",
      " 'male' 'male' 'male' 'male' 'male' 'female' 'female' 'male' 'female'\n",
      " 'male' 'female' 'male' 'male' 'male' 'male' 'female' 'female' 'male'\n",
      " 'male' 'female' 'female' 'female' 'male' 'female' 'female' 'female'\n",
      " 'female' 'male' 'male' 'male' 'male' 'male' 'male' 'male' 'female'\n",
      " 'female' 'male' 'male' 'female' 'female' 'male' 'male' 'female' 'male'\n",
      " 'female' 'male' 'male' 'female' 'male' 'male' 'female' 'female' 'male'\n",
      " 'male' 'male' 'male' 'male' 'female' 'male' 'male' 'male' 'male' 'female'\n",
      " 'male' 'male' 'female' 'male' 'male' 'male' 'male' 'male' 'male' 'male'\n",
      " 'female' 'female' 'female' 'female' 'female' 'male' 'female' 'male'\n",
      " 'female' 'female' 'female' 'male' 'male' 'male' 'male' 'female' 'male'\n",
      " 'male' 'female' 'male' 'female' 'female' 'female' 'male' 'female' 'male'\n",
      " 'male' 'male' 'female' 'male' 'male' 'female' 'female' 'female' 'female'\n",
      " 'male' 'male' 'male' 'male' 'male' 'male' 'male' 'male' 'female' 'male'\n",
      " 'female' 'female' 'female' 'female' 'female' 'male' 'male' 'female'\n",
      " 'male' 'female' 'female' 'male' 'male' 'male' 'male' 'male' 'male'\n",
      " 'female' 'male' 'male' 'female' 'female' 'male' 'female' 'male' 'male'\n",
      " 'male' 'female' 'female' 'female' 'female' 'female' 'male' 'male' 'male'\n",
      " 'female' 'male' 'female' 'female' 'female' 'female' 'female' 'male'\n",
      " 'male' 'female' 'male' 'female' 'female' 'female' 'male' 'male' 'female'\n",
      " 'female' 'female' 'female' 'male' 'male' 'male' 'female' 'male' 'female'\n",
      " 'female' 'male' 'female' 'female' 'male' 'male' 'female' 'male' 'female'\n",
      " 'male' 'female' 'male' 'female' 'male' 'male' 'female' 'male' 'male'\n",
      " 'female' 'male' 'male' 'female' 'male' 'female' 'male' 'female' 'male'\n",
      " 'male' 'female' 'male' 'female' 'male' 'male' 'male' 'female' 'male'\n",
      " 'female' 'male' 'female' 'female' 'male' 'female' 'male' 'female'\n",
      " 'female' 'female' 'female' 'female' 'male' 'female' 'male' 'female'\n",
      " 'female' 'female' 'female' 'male' 'female' 'female' 'male' 'female'\n",
      " 'female' 'female' 'male' 'male' 'female' 'male' 'female' 'female' 'male'\n",
      " 'female' 'male' 'male' 'female' 'male' 'male' 'female' 'male' 'female'\n",
      " 'male' 'male' 'female' 'male' 'male' 'male' 'female' 'male' 'male' 'male'\n",
      " 'female' 'male' 'male' 'female' 'male' 'female' 'female' 'female' 'male'\n",
      " 'female' 'male' 'male' 'male' 'male' 'male' 'female' 'female' 'male'\n",
      " 'female' 'female' 'female' 'male' 'male' 'male' 'male' 'male' 'male'\n",
      " 'male' 'female' 'male' 'female' 'male' 'male' 'male' 'female' 'female'\n",
      " 'female' 'male' 'female' 'female' 'male' 'male' 'female' 'male' 'male'\n",
      " 'male' 'female' 'male' 'male' 'male' 'male' 'male' 'male' 'male' 'male'\n",
      " 'male' 'female' 'female' 'male' 'male' 'male' 'male' 'male' 'female'\n",
      " 'male' 'male' 'female' 'female' 'female' 'male' 'male' 'male']\n",
      "Confusion Matrix\n",
      " [[258  51]\n",
      " [ 19 306]]\n"
     ]
    },
    {
     "data": {
      "image/png": "[encoded data removed]",
      "text/plain": [
       "<Figure size 432x288 with 2 Axes>"
      ]
     },
     "metadata": {
      "needs_background": "light"
     },
     "output_type": "display_data"
    },
    {
     "name": "stdout",
     "output_type": "stream",
     "text": [
      "Classification report\n",
      "               precision    recall  f1-score   support\n",
      "\n",
      "      female       0.93      0.83      0.88       309\n",
      "        male       0.86      0.94      0.90       325\n",
      "\n",
      "    accuracy                           0.89       634\n",
      "   macro avg       0.89      0.89      0.89       634\n",
      "weighted avg       0.89      0.89      0.89       634\n",
      "\n"
     ]
    }
   ],
   "source": [
    "# 1) LogReg\n",
    "m1 = LogisticRegression()\n",
    "apply_model(m1)"
   ]
  },
  {
   "cell_type": "code",
   "execution_count": 27,
   "id": "4b3476e6",
   "metadata": {},
   "outputs": [
    {
     "name": "stdout",
     "output_type": "stream",
     "text": [
      "Accuracy 0.9700315457413249\n",
      "Predicted values\n",
      " ['female' 'female' 'female' 'female' 'female' 'female' 'male' 'male'\n",
      " 'female' 'female' 'male' 'female' 'male' 'male' 'male' 'male' 'female'\n",
      " 'male' 'male' 'male' 'male' 'male' 'female' 'male' 'female' 'male' 'male'\n",
      " 'male' 'female' 'female' 'female' 'male' 'male' 'female' 'male' 'male'\n",
      " 'male' 'female' 'female' 'male' 'male' 'female' 'female' 'female' 'male'\n",
      " 'female' 'male' 'female' 'male' 'female' 'female' 'female' 'female'\n",
      " 'male' 'female' 'male' 'female' 'male' 'male' 'male' 'female' 'female'\n",
      " 'male' 'male' 'female' 'female' 'male' 'female' 'female' 'male' 'male'\n",
      " 'female' 'female' 'female' 'male' 'male' 'female' 'female' 'male'\n",
      " 'female' 'female' 'female' 'male' 'female' 'male' 'female' 'female'\n",
      " 'female' 'male' 'female' 'female' 'male' 'male' 'male' 'female' 'female'\n",
      " 'female' 'male' 'male' 'male' 'female' 'female' 'female' 'male' 'female'\n",
      " 'male' 'female' 'female' 'female' 'male' 'male' 'female' 'male' 'male'\n",
      " 'male' 'male' 'female' 'female' 'female' 'female' 'female' 'female'\n",
      " 'female' 'female' 'male' 'male' 'male' 'female' 'male' 'female' 'male'\n",
      " 'male' 'female' 'male' 'female' 'female' 'female' 'female' 'female'\n",
      " 'female' 'male' 'male' 'female' 'male' 'male' 'male' 'male' 'female'\n",
      " 'male' 'male' 'female' 'male' 'male' 'female' 'female' 'male' 'female'\n",
      " 'male' 'male' 'male' 'male' 'male' 'male' 'female' 'female' 'male'\n",
      " 'female' 'female' 'female' 'female' 'male' 'male' 'male' 'male' 'female'\n",
      " 'male' 'female' 'male' 'female' 'female' 'male' 'male' 'female' 'male'\n",
      " 'male' 'female' 'male' 'male' 'female' 'female' 'male' 'male' 'male'\n",
      " 'female' 'female' 'female' 'male' 'male' 'male' 'female' 'female' 'male'\n",
      " 'male' 'male' 'female' 'female' 'male' 'female' 'female' 'female'\n",
      " 'female' 'female' 'male' 'male' 'female' 'female' 'male' 'female' 'male'\n",
      " 'female' 'female' 'female' 'male' 'female' 'male' 'male' 'male' 'female'\n",
      " 'female' 'female' 'male' 'female' 'male' 'male' 'male' 'male' 'female'\n",
      " 'female' 'male' 'female' 'female' 'female' 'male' 'female' 'male' 'male'\n",
      " 'male' 'male' 'male' 'female' 'male' 'male' 'male' 'male' 'female' 'male'\n",
      " 'male' 'male' 'female' 'male' 'male' 'female' 'female' 'female' 'male'\n",
      " 'female' 'female' 'male' 'male' 'female' 'male' 'female' 'male' 'female'\n",
      " 'female' 'female' 'male' 'male' 'female' 'male' 'male' 'female' 'male'\n",
      " 'male' 'female' 'female' 'male' 'male' 'male' 'male' 'male' 'male' 'male'\n",
      " 'female' 'female' 'female' 'male' 'female' 'female' 'female' 'female'\n",
      " 'female' 'male' 'female' 'male' 'female' 'male' 'male' 'male' 'female'\n",
      " 'female' 'female' 'male' 'male' 'female' 'female' 'female' 'male'\n",
      " 'female' 'male' 'female' 'female' 'male' 'male' 'male' 'female' 'male'\n",
      " 'male' 'male' 'female' 'female' 'female' 'male' 'female' 'female' 'male'\n",
      " 'male' 'female' 'male' 'female' 'male' 'male' 'female' 'male' 'female'\n",
      " 'female' 'female' 'male' 'male' 'male' 'male' 'male' 'female' 'male'\n",
      " 'male' 'male' 'male' 'female' 'male' 'male' 'female' 'male' 'male' 'male'\n",
      " 'male' 'male' 'male' 'male' 'female' 'female' 'female' 'female' 'female'\n",
      " 'male' 'female' 'male' 'female' 'female' 'female' 'male' 'male' 'male'\n",
      " 'male' 'female' 'male' 'female' 'female' 'male' 'female' 'female'\n",
      " 'female' 'male' 'female' 'male' 'male' 'female' 'female' 'male' 'male'\n",
      " 'female' 'female' 'female' 'female' 'male' 'male' 'male' 'male' 'female'\n",
      " 'male' 'male' 'male' 'female' 'male' 'female' 'female' 'female' 'female'\n",
      " 'female' 'male' 'male' 'female' 'male' 'female' 'female' 'female'\n",
      " 'female' 'male' 'male' 'male' 'female' 'female' 'male' 'male' 'female'\n",
      " 'female' 'male' 'male' 'male' 'male' 'male' 'female' 'female' 'female'\n",
      " 'male' 'female' 'female' 'male' 'male' 'female' 'male' 'female' 'female'\n",
      " 'male' 'female' 'female' 'male' 'male' 'female' 'male' 'female' 'female'\n",
      " 'female' 'male' 'male' 'female' 'female' 'female' 'female' 'male' 'male'\n",
      " 'male' 'female' 'male' 'female' 'male' 'male' 'female' 'female' 'female'\n",
      " 'male' 'female' 'male' 'female' 'male' 'female' 'male' 'female' 'male'\n",
      " 'female' 'female' 'female' 'male' 'female' 'male' 'male' 'female' 'male'\n",
      " 'female' 'male' 'female' 'male' 'male' 'female' 'male' 'female' 'male'\n",
      " 'male' 'female' 'female' 'male' 'female' 'male' 'female' 'female' 'male'\n",
      " 'female' 'male' 'female' 'female' 'female' 'female' 'female' 'male'\n",
      " 'female' 'male' 'female' 'female' 'female' 'female' 'female' 'female'\n",
      " 'male' 'female' 'female' 'female' 'female' 'male' 'male' 'female' 'male'\n",
      " 'female' 'male' 'male' 'female' 'male' 'male' 'female' 'male' 'female'\n",
      " 'female' 'male' 'female' 'male' 'male' 'female' 'female' 'male' 'male'\n",
      " 'female' 'male' 'male' 'female' 'female' 'male' 'male' 'female' 'male'\n",
      " 'female' 'female' 'male' 'male' 'female' 'male' 'male' 'male' 'male'\n",
      " 'male' 'female' 'female' 'male' 'female' 'female' 'female' 'male' 'male'\n",
      " 'male' 'male' 'male' 'male' 'female' 'female' 'male' 'female' 'female'\n",
      " 'male' 'male' 'female' 'female' 'female' 'male' 'female' 'female' 'male'\n",
      " 'male' 'female' 'male' 'male' 'female' 'male' 'male' 'male' 'male' 'male'\n",
      " 'male' 'male' 'male' 'male' 'female' 'female' 'female' 'male' 'male'\n",
      " 'male' 'male' 'male' 'female' 'male' 'male' 'female' 'female' 'female'\n",
      " 'male' 'male' 'male']\n",
      "Confusion Matrix\n",
      " [[301   8]\n",
      " [ 11 314]]\n"
     ]
    },
    {
     "data": {
      "image/png": "[encoded data removed]",
      "text/plain": [
       "<Figure size 432x288 with 2 Axes>"
      ]
     },
     "metadata": {
      "needs_background": "light"
     },
     "output_type": "display_data"
    },
    {
     "name": "stdout",
     "output_type": "stream",
     "text": [
      "Classification report\n",
      "               precision    recall  f1-score   support\n",
      "\n",
      "      female       0.96      0.97      0.97       309\n",
      "        male       0.98      0.97      0.97       325\n",
      "\n",
      "    accuracy                           0.97       634\n",
      "   macro avg       0.97      0.97      0.97       634\n",
      "weighted avg       0.97      0.97      0.97       634\n",
      "\n"
     ]
    }
   ],
   "source": [
    "# 2) Decision Tree\n",
    "m2 = DecisionTreeClassifier(criterion='gini',max_depth=5,min_samples_split=10)\n",
    "apply_model(m2)"
   ]
  },
  {
   "cell_type": "code",
   "execution_count": 44,
   "id": "4b207a6c",
   "metadata": {},
   "outputs": [
    {
     "name": "stdout",
     "output_type": "stream",
     "text": [
      "Accuracy 0.9763406940063092\n",
      "Predicted values\n",
      " ['female' 'female' 'female' 'female' 'female' 'female' 'male' 'male'\n",
      " 'female' 'female' 'male' 'female' 'male' 'male' 'male' 'male' 'female'\n",
      " 'male' 'male' 'male' 'male' 'male' 'female' 'male' 'female' 'male' 'male'\n",
      " 'male' 'female' 'female' 'female' 'male' 'male' 'female' 'male' 'male'\n",
      " 'male' 'female' 'female' 'male' 'male' 'female' 'female' 'female' 'male'\n",
      " 'female' 'male' 'female' 'male' 'male' 'female' 'female' 'female' 'male'\n",
      " 'female' 'male' 'female' 'male' 'male' 'male' 'female' 'female' 'male'\n",
      " 'male' 'male' 'female' 'male' 'female' 'female' 'male' 'male' 'female'\n",
      " 'female' 'female' 'male' 'male' 'female' 'female' 'male' 'female'\n",
      " 'female' 'female' 'male' 'female' 'male' 'female' 'female' 'female'\n",
      " 'male' 'female' 'female' 'male' 'male' 'male' 'female' 'female' 'female'\n",
      " 'male' 'male' 'male' 'female' 'female' 'female' 'male' 'female' 'male'\n",
      " 'female' 'female' 'female' 'male' 'male' 'female' 'male' 'male' 'male'\n",
      " 'male' 'female' 'female' 'female' 'female' 'female' 'female' 'female'\n",
      " 'female' 'male' 'male' 'male' 'female' 'male' 'female' 'male' 'male'\n",
      " 'female' 'male' 'female' 'female' 'female' 'female' 'female' 'female'\n",
      " 'male' 'male' 'female' 'male' 'male' 'male' 'male' 'female' 'male' 'male'\n",
      " 'female' 'male' 'male' 'female' 'female' 'male' 'female' 'male' 'male'\n",
      " 'male' 'male' 'male' 'male' 'female' 'female' 'male' 'female' 'female'\n",
      " 'female' 'female' 'male' 'male' 'male' 'male' 'female' 'male' 'female'\n",
      " 'male' 'female' 'female' 'male' 'male' 'female' 'male' 'male' 'female'\n",
      " 'male' 'male' 'male' 'male' 'male' 'male' 'male' 'female' 'female'\n",
      " 'female' 'male' 'male' 'male' 'female' 'female' 'male' 'male' 'male'\n",
      " 'female' 'female' 'male' 'female' 'female' 'female' 'female' 'female'\n",
      " 'male' 'male' 'female' 'female' 'male' 'female' 'male' 'female' 'female'\n",
      " 'female' 'male' 'female' 'male' 'male' 'male' 'female' 'female' 'female'\n",
      " 'male' 'female' 'male' 'male' 'male' 'male' 'female' 'female' 'male'\n",
      " 'female' 'female' 'female' 'male' 'female' 'male' 'male' 'male' 'male'\n",
      " 'male' 'female' 'male' 'male' 'male' 'male' 'female' 'male' 'male' 'male'\n",
      " 'female' 'male' 'male' 'female' 'female' 'female' 'male' 'female'\n",
      " 'female' 'male' 'male' 'female' 'male' 'female' 'male' 'female' 'female'\n",
      " 'female' 'male' 'male' 'female' 'male' 'male' 'female' 'male' 'male'\n",
      " 'female' 'female' 'male' 'male' 'male' 'male' 'male' 'male' 'male'\n",
      " 'female' 'female' 'female' 'male' 'male' 'female' 'female' 'female'\n",
      " 'female' 'male' 'female' 'male' 'female' 'male' 'male' 'male' 'female'\n",
      " 'female' 'female' 'male' 'male' 'female' 'female' 'female' 'male'\n",
      " 'female' 'male' 'female' 'female' 'male' 'male' 'male' 'female' 'male'\n",
      " 'male' 'male' 'female' 'female' 'female' 'male' 'female' 'female' 'male'\n",
      " 'male' 'female' 'male' 'female' 'male' 'male' 'female' 'male' 'female'\n",
      " 'female' 'female' 'male' 'male' 'male' 'male' 'male' 'female' 'male'\n",
      " 'male' 'male' 'male' 'female' 'male' 'male' 'female' 'male' 'male'\n",
      " 'female' 'male' 'male' 'male' 'male' 'female' 'female' 'female' 'female'\n",
      " 'female' 'male' 'female' 'male' 'female' 'female' 'female' 'male' 'male'\n",
      " 'male' 'male' 'female' 'male' 'female' 'female' 'male' 'female' 'female'\n",
      " 'female' 'male' 'female' 'male' 'male' 'female' 'female' 'male' 'male'\n",
      " 'female' 'female' 'female' 'female' 'male' 'male' 'male' 'male' 'female'\n",
      " 'male' 'male' 'male' 'female' 'male' 'female' 'female' 'female' 'female'\n",
      " 'female' 'male' 'male' 'female' 'male' 'female' 'female' 'female'\n",
      " 'female' 'male' 'male' 'male' 'female' 'female' 'male' 'male' 'female'\n",
      " 'female' 'male' 'male' 'male' 'male' 'male' 'female' 'female' 'female'\n",
      " 'male' 'female' 'male' 'male' 'male' 'female' 'male' 'female' 'female'\n",
      " 'male' 'female' 'female' 'male' 'male' 'female' 'male' 'female' 'female'\n",
      " 'female' 'male' 'male' 'female' 'female' 'female' 'female' 'male' 'male'\n",
      " 'male' 'female' 'male' 'female' 'male' 'male' 'female' 'female' 'female'\n",
      " 'male' 'female' 'male' 'female' 'male' 'female' 'male' 'female' 'male'\n",
      " 'female' 'female' 'female' 'male' 'female' 'male' 'male' 'female' 'male'\n",
      " 'female' 'male' 'female' 'male' 'male' 'female' 'male' 'female' 'male'\n",
      " 'male' 'female' 'female' 'male' 'female' 'male' 'female' 'female' 'male'\n",
      " 'female' 'male' 'female' 'female' 'female' 'female' 'female' 'male'\n",
      " 'female' 'male' 'female' 'female' 'female' 'female' 'female' 'female'\n",
      " 'male' 'male' 'female' 'female' 'female' 'male' 'male' 'female' 'male'\n",
      " 'female' 'female' 'male' 'female' 'male' 'male' 'female' 'male' 'female'\n",
      " 'female' 'male' 'female' 'male' 'male' 'female' 'female' 'male' 'male'\n",
      " 'female' 'male' 'female' 'female' 'female' 'male' 'male' 'female' 'male'\n",
      " 'female' 'female' 'male' 'male' 'female' 'male' 'male' 'male' 'male'\n",
      " 'male' 'female' 'female' 'male' 'female' 'female' 'female' 'male' 'male'\n",
      " 'male' 'male' 'male' 'male' 'female' 'female' 'male' 'female' 'female'\n",
      " 'male' 'male' 'female' 'female' 'female' 'male' 'female' 'female' 'male'\n",
      " 'male' 'female' 'male' 'male' 'female' 'female' 'male' 'male' 'male'\n",
      " 'male' 'male' 'male' 'male' 'male' 'female' 'female' 'female' 'male'\n",
      " 'male' 'male' 'male' 'male' 'female' 'male' 'male' 'female' 'female'\n",
      " 'female' 'female' 'male' 'male']\n",
      "Confusion Matrix\n",
      " [[302   7]\n",
      " [  8 317]]\n"
     ]
    },
    {
     "data": {
      "image/png": "[encoded data removed]",
      "text/plain": [
       "<Figure size 432x288 with 2 Axes>"
      ]
     },
     "metadata": {
      "needs_background": "light"
     },
     "output_type": "display_data"
    },
    {
     "name": "stdout",
     "output_type": "stream",
     "text": [
      "Classification report\n",
      "               precision    recall  f1-score   support\n",
      "\n",
      "      female       0.97      0.98      0.98       309\n",
      "        male       0.98      0.98      0.98       325\n",
      "\n",
      "    accuracy                           0.98       634\n",
      "   macro avg       0.98      0.98      0.98       634\n",
      "weighted avg       0.98      0.98      0.98       634\n",
      "\n"
     ]
    }
   ],
   "source": [
    "# 3) Random Forest\n",
    "m3 = RandomForestClassifier(n_estimators=70,criterion='gini',max_depth=5,min_samples_split=10)\n",
    "apply_model(m3)"
   ]
  },
  {
   "cell_type": "code",
   "execution_count": 46,
   "id": "29d682dc",
   "metadata": {},
   "outputs": [
    {
     "name": "stdout",
     "output_type": "stream",
     "text": [
      "Accuracy 0.916403785488959\n",
      "Predicted values\n",
      " ['female' 'male' 'female' 'female' 'female' 'female' 'male' 'male'\n",
      " 'female' 'female' 'male' 'female' 'male' 'male' 'male' 'male' 'female'\n",
      " 'male' 'male' 'male' 'male' 'male' 'female' 'male' 'female' 'male' 'male'\n",
      " 'male' 'male' 'female' 'female' 'male' 'male' 'female' 'male' 'male'\n",
      " 'male' 'female' 'female' 'male' 'male' 'female' 'female' 'female' 'male'\n",
      " 'female' 'male' 'female' 'male' 'male' 'female' 'female' 'female' 'male'\n",
      " 'female' 'male' 'female' 'male' 'male' 'male' 'female' 'female' 'male'\n",
      " 'male' 'male' 'male' 'male' 'female' 'female' 'male' 'male' 'female'\n",
      " 'female' 'female' 'male' 'male' 'male' 'female' 'male' 'female' 'female'\n",
      " 'female' 'male' 'female' 'male' 'female' 'female' 'female' 'male'\n",
      " 'female' 'female' 'male' 'male' 'male' 'male' 'female' 'female' 'male'\n",
      " 'male' 'male' 'female' 'male' 'female' 'male' 'female' 'male' 'female'\n",
      " 'female' 'female' 'male' 'male' 'female' 'male' 'male' 'male' 'male'\n",
      " 'female' 'female' 'female' 'female' 'female' 'female' 'female' 'female'\n",
      " 'male' 'male' 'male' 'female' 'male' 'female' 'male' 'male' 'female'\n",
      " 'male' 'male' 'female' 'female' 'female' 'female' 'female' 'male' 'male'\n",
      " 'male' 'male' 'male' 'male' 'male' 'female' 'male' 'male' 'female' 'male'\n",
      " 'male' 'female' 'female' 'male' 'male' 'male' 'male' 'male' 'male' 'male'\n",
      " 'male' 'male' 'female' 'male' 'male' 'female' 'female' 'female' 'male'\n",
      " 'male' 'male' 'male' 'female' 'male' 'female' 'male' 'female' 'female'\n",
      " 'male' 'male' 'female' 'male' 'male' 'female' 'male' 'male' 'male' 'male'\n",
      " 'male' 'male' 'female' 'male' 'female' 'male' 'male' 'male' 'male'\n",
      " 'female' 'female' 'male' 'male' 'male' 'female' 'female' 'male' 'female'\n",
      " 'female' 'female' 'female' 'female' 'male' 'male' 'female' 'female'\n",
      " 'male' 'female' 'male' 'male' 'female' 'male' 'male' 'female' 'male'\n",
      " 'male' 'male' 'female' 'female' 'female' 'male' 'female' 'male' 'male'\n",
      " 'male' 'male' 'female' 'female' 'male' 'female' 'female' 'female' 'male'\n",
      " 'female' 'male' 'male' 'male' 'male' 'male' 'female' 'male' 'male' 'male'\n",
      " 'male' 'female' 'male' 'male' 'male' 'female' 'male' 'male' 'female'\n",
      " 'female' 'female' 'male' 'female' 'male' 'male' 'male' 'female' 'male'\n",
      " 'female' 'male' 'female' 'female' 'female' 'male' 'male' 'female' 'male'\n",
      " 'male' 'female' 'male' 'male' 'female' 'female' 'male' 'male' 'male'\n",
      " 'male' 'male' 'male' 'male' 'male' 'female' 'male' 'male' 'male' 'female'\n",
      " 'female' 'female' 'female' 'male' 'female' 'male' 'female' 'male' 'male'\n",
      " 'male' 'female' 'female' 'female' 'male' 'male' 'female' 'female'\n",
      " 'female' 'male' 'female' 'male' 'female' 'female' 'male' 'male' 'male'\n",
      " 'male' 'male' 'male' 'male' 'female' 'female' 'male' 'male' 'female'\n",
      " 'female' 'male' 'female' 'female' 'male' 'female' 'male' 'male' 'female'\n",
      " 'male' 'male' 'female' 'male' 'male' 'male' 'male' 'male' 'male' 'female'\n",
      " 'male' 'male' 'male' 'male' 'female' 'male' 'male' 'female' 'male' 'male'\n",
      " 'male' 'male' 'male' 'male' 'male' 'female' 'female' 'female' 'female'\n",
      " 'female' 'male' 'female' 'male' 'female' 'female' 'female' 'male' 'male'\n",
      " 'male' 'male' 'female' 'male' 'male' 'female' 'male' 'female' 'female'\n",
      " 'female' 'male' 'female' 'male' 'male' 'male' 'female' 'male' 'male'\n",
      " 'female' 'female' 'female' 'female' 'male' 'male' 'male' 'male' 'female'\n",
      " 'male' 'male' 'male' 'female' 'male' 'female' 'female' 'female' 'female'\n",
      " 'female' 'male' 'male' 'female' 'male' 'female' 'female' 'female' 'male'\n",
      " 'male' 'male' 'male' 'male' 'female' 'male' 'male' 'female' 'female'\n",
      " 'male' 'male' 'male' 'male' 'male' 'female' 'female' 'female' 'female'\n",
      " 'female' 'male' 'male' 'male' 'female' 'male' 'female' 'female' 'male'\n",
      " 'female' 'female' 'male' 'male' 'female' 'male' 'female' 'female'\n",
      " 'female' 'male' 'male' 'female' 'female' 'female' 'female' 'male' 'male'\n",
      " 'male' 'female' 'male' 'female' 'female' 'male' 'female' 'female'\n",
      " 'female' 'male' 'female' 'male' 'female' 'male' 'female' 'male' 'female'\n",
      " 'male' 'male' 'female' 'male' 'male' 'female' 'male' 'male' 'female'\n",
      " 'male' 'female' 'male' 'female' 'male' 'male' 'female' 'male' 'female'\n",
      " 'male' 'male' 'male' 'female' 'male' 'female' 'male' 'female' 'female'\n",
      " 'male' 'female' 'male' 'female' 'female' 'female' 'female' 'female'\n",
      " 'male' 'female' 'male' 'female' 'female' 'female' 'female' 'male'\n",
      " 'female' 'male' 'male' 'female' 'female' 'female' 'male' 'male' 'female'\n",
      " 'male' 'female' 'female' 'male' 'female' 'male' 'male' 'female' 'male'\n",
      " 'male' 'female' 'male' 'female' 'male' 'male' 'female' 'male' 'male'\n",
      " 'male' 'female' 'male' 'male' 'female' 'female' 'male' 'male' 'female'\n",
      " 'male' 'female' 'female' 'male' 'male' 'female' 'male' 'male' 'male'\n",
      " 'male' 'male' 'female' 'female' 'male' 'female' 'female' 'female' 'male'\n",
      " 'male' 'male' 'male' 'male' 'male' 'male' 'female' 'male' 'female' 'male'\n",
      " 'male' 'male' 'female' 'female' 'female' 'male' 'female' 'female' 'male'\n",
      " 'male' 'female' 'male' 'male' 'male' 'female' 'male' 'male' 'male' 'male'\n",
      " 'male' 'male' 'male' 'male' 'male' 'female' 'female' 'male' 'male' 'male'\n",
      " 'male' 'male' 'female' 'male' 'male' 'female' 'female' 'female' 'female'\n",
      " 'male' 'male']\n",
      "Confusion Matrix\n",
      " [[266  43]\n",
      " [ 10 315]]\n"
     ]
    },
    {
     "data": {
      "image/png": "[encoded data removed]",
      "text/plain": [
       "<Figure size 432x288 with 2 Axes>"
      ]
     },
     "metadata": {
      "needs_background": "light"
     },
     "output_type": "display_data"
    },
    {
     "name": "stdout",
     "output_type": "stream",
     "text": [
      "Classification report\n",
      "               precision    recall  f1-score   support\n",
      "\n",
      "      female       0.96      0.86      0.91       309\n",
      "        male       0.88      0.97      0.92       325\n",
      "\n",
      "    accuracy                           0.92       634\n",
      "   macro avg       0.92      0.92      0.92       634\n",
      "weighted avg       0.92      0.92      0.92       634\n",
      "\n"
     ]
    }
   ],
   "source": [
    "# 4) SVC\n",
    "m4 = SVC(kernel='linear',C=1)\n",
    "apply_model(m4)\n"
   ]
  },
  {
   "cell_type": "code",
   "execution_count": 47,
   "id": "c7082ba6",
   "metadata": {},
   "outputs": [
    {
     "name": "stdout",
     "output_type": "stream",
     "text": [
      "Accuracy 0.695583596214511\n",
      "Predicted values\n",
      " ['female' 'male' 'female' 'female' 'male' 'female' 'male' 'male' 'female'\n",
      " 'female' 'male' 'male' 'male' 'female' 'male' 'male' 'female' 'male'\n",
      " 'male' 'male' 'female' 'male' 'male' 'male' 'male' 'male' 'male' 'male'\n",
      " 'male' 'male' 'female' 'male' 'male' 'female' 'male' 'female' 'male'\n",
      " 'male' 'female' 'male' 'female' 'female' 'male' 'female' 'male' 'male'\n",
      " 'male' 'female' 'female' 'female' 'female' 'male' 'male' 'female' 'male'\n",
      " 'female' 'female' 'male' 'male' 'female' 'female' 'female' 'male' 'male'\n",
      " 'male' 'male' 'male' 'female' 'female' 'male' 'male' 'female' 'female'\n",
      " 'female' 'male' 'male' 'male' 'female' 'male' 'female' 'female' 'male'\n",
      " 'female' 'female' 'male' 'female' 'male' 'female' 'female' 'female'\n",
      " 'male' 'female' 'male' 'male' 'female' 'female' 'male' 'male' 'male'\n",
      " 'male' 'female' 'male' 'male' 'male' 'male' 'female' 'male' 'female'\n",
      " 'female' 'male' 'male' 'female' 'male' 'male' 'female' 'male' 'female'\n",
      " 'male' 'female' 'male' 'male' 'male' 'female' 'male' 'male' 'male' 'male'\n",
      " 'female' 'male' 'male' 'male' 'male' 'male' 'male' 'female' 'female'\n",
      " 'male' 'male' 'male' 'female' 'male' 'female' 'male' 'male' 'male' 'male'\n",
      " 'male' 'male' 'male' 'male' 'female' 'male' 'male' 'male' 'male' 'male'\n",
      " 'female' 'male' 'male' 'male' 'female' 'male' 'male' 'male' 'female'\n",
      " 'male' 'male' 'female' 'female' 'female' 'female' 'female' 'male' 'male'\n",
      " 'male' 'male' 'male' 'female' 'female' 'male' 'male' 'male' 'male' 'male'\n",
      " 'male' 'female' 'male' 'male' 'male' 'male' 'male' 'male' 'male' 'male'\n",
      " 'female' 'male' 'female' 'male' 'female' 'female' 'female' 'male' 'male'\n",
      " 'male' 'male' 'female' 'male' 'female' 'female' 'female' 'female'\n",
      " 'female' 'female' 'male' 'female' 'female' 'female' 'male' 'female'\n",
      " 'male' 'male' 'male' 'male' 'female' 'male' 'female' 'male' 'male'\n",
      " 'female' 'female' 'male' 'female' 'male' 'male' 'male' 'male' 'female'\n",
      " 'male' 'male' 'male' 'female' 'female' 'male' 'male' 'male' 'male' 'male'\n",
      " 'male' 'male' 'female' 'female' 'male' 'male' 'male' 'female' 'male'\n",
      " 'female' 'male' 'female' 'male' 'male' 'male' 'male' 'female' 'male'\n",
      " 'male' 'male' 'male' 'female' 'female' 'female' 'female' 'male' 'male'\n",
      " 'male' 'female' 'female' 'male' 'female' 'female' 'male' 'male' 'male'\n",
      " 'male' 'female' 'male' 'male' 'female' 'male' 'male' 'female' 'female'\n",
      " 'male' 'male' 'female' 'male' 'male' 'male' 'female' 'female' 'female'\n",
      " 'female' 'male' 'female' 'male' 'male' 'female' 'female' 'female' 'male'\n",
      " 'female' 'female' 'male' 'male' 'female' 'male' 'female' 'male' 'female'\n",
      " 'female' 'male' 'female' 'female' 'male' 'male' 'male' 'female' 'male'\n",
      " 'male' 'male' 'female' 'female' 'female' 'female' 'female' 'male' 'male'\n",
      " 'female' 'male' 'female' 'male' 'male' 'female' 'male' 'male' 'male'\n",
      " 'female' 'male' 'male' 'male' 'female' 'male' 'female' 'male' 'male'\n",
      " 'male' 'female' 'female' 'male' 'male' 'female' 'male' 'male' 'male'\n",
      " 'male' 'male' 'male' 'female' 'female' 'male' 'female' 'female' 'female'\n",
      " 'male' 'male' 'female' 'female' 'male' 'female' 'female' 'female' 'male'\n",
      " 'male' 'female' 'male' 'male' 'female' 'male' 'female' 'female' 'female'\n",
      " 'male' 'female' 'male' 'male' 'male' 'male' 'male' 'male' 'female' 'male'\n",
      " 'female' 'female' 'male' 'male' 'male' 'male' 'female' 'female' 'male'\n",
      " 'male' 'female' 'male' 'female' 'female' 'female' 'female' 'male' 'male'\n",
      " 'male' 'male' 'male' 'female' 'female' 'male' 'male' 'male' 'male'\n",
      " 'female' 'male' 'male' 'female' 'male' 'male' 'female' 'male' 'male'\n",
      " 'male' 'male' 'female' 'female' 'female' 'female' 'female' 'female'\n",
      " 'male' 'male' 'female' 'female' 'female' 'male' 'female' 'female'\n",
      " 'female' 'female' 'female' 'female' 'female' 'male' 'male' 'female'\n",
      " 'female' 'male' 'male' 'male' 'female' 'male' 'female' 'male' 'female'\n",
      " 'female' 'female' 'female' 'female' 'female' 'male' 'female' 'male'\n",
      " 'female' 'male' 'male' 'male' 'female' 'male' 'male' 'male' 'female'\n",
      " 'male' 'male' 'female' 'male' 'male' 'male' 'male' 'male' 'female' 'male'\n",
      " 'female' 'male' 'female' 'male' 'female' 'female' 'male' 'female' 'male'\n",
      " 'female' 'male' 'male' 'male' 'female' 'male' 'female' 'female' 'male'\n",
      " 'female' 'male' 'male' 'female' 'female' 'female' 'female' 'male'\n",
      " 'female' 'female' 'female' 'female' 'female' 'male' 'male' 'female'\n",
      " 'female' 'female' 'female' 'male' 'female' 'male' 'male' 'female'\n",
      " 'female' 'female' 'female' 'male' 'female' 'female' 'female' 'female'\n",
      " 'male' 'male' 'male' 'female' 'female' 'male' 'male' 'female' 'female'\n",
      " 'male' 'male' 'female' 'female' 'male' 'male' 'female' 'male' 'female'\n",
      " 'female' 'male' 'female' 'female' 'female' 'female' 'female' 'male'\n",
      " 'male' 'female' 'male' 'male' 'female' 'male' 'male' 'female' 'female'\n",
      " 'female' 'male' 'male' 'male' 'male' 'male' 'male' 'male' 'female' 'male'\n",
      " 'male' 'male' 'male' 'male' 'female' 'male' 'male' 'male' 'female' 'male'\n",
      " 'male' 'male' 'female' 'male' 'male' 'male' 'female' 'male' 'male' 'male'\n",
      " 'male' 'female' 'male' 'male' 'female' 'male' 'female' 'female' 'male'\n",
      " 'male' 'male' 'male' 'male' 'female' 'male' 'male' 'female' 'female'\n",
      " 'female' 'female' 'male' 'female']\n",
      "Confusion Matrix\n",
      " [[194 115]\n",
      " [ 78 247]]\n"
     ]
    },
    {
     "data": {
      "image/png": "[encoded data removed]",
      "text/plain": [
       "<Figure size 432x288 with 2 Axes>"
      ]
     },
     "metadata": {
      "needs_background": "light"
     },
     "output_type": "display_data"
    },
    {
     "name": "stdout",
     "output_type": "stream",
     "text": [
      "Classification report\n",
      "               precision    recall  f1-score   support\n",
      "\n",
      "      female       0.71      0.63      0.67       309\n",
      "        male       0.68      0.76      0.72       325\n",
      "\n",
      "    accuracy                           0.70       634\n",
      "   macro avg       0.70      0.69      0.69       634\n",
      "weighted avg       0.70      0.70      0.69       634\n",
      "\n"
     ]
    }
   ],
   "source": [
    "# 5) KNN\n",
    "m5 = KNeighborsClassifier(n_neighbors=27)\n",
    "apply_model(m5)"
   ]
  },
  {
   "cell_type": "code",
   "execution_count": 65,
   "id": "4d6c6362",
   "metadata": {},
   "outputs": [
    {
     "name": "stdout",
     "output_type": "stream",
     "text": [
      "The best model for this Gender Detection Mini Project is 'Random Forest Classifier Model' with an accuracy of 0.9763406940063092 \n"
     ]
    }
   ],
   "source": [
    "print(\"The best model for this Gender Detection Mini Project is 'Random Forest Classifier Model' with an accuracy of 0.9763406940063092 \")"
   ]
  },
  {
   "cell_type": "code",
   "execution_count": null,
   "id": "dad885ad",
   "metadata": {},
   "outputs": [],
   "source": []
  },
  {
   "cell_type": "code",
   "execution_count": null,
   "id": "8473575a",
   "metadata": {},
   "outputs": [],
   "source": []
  }
 ],
 "metadata": {
  "kernelspec": {
   "display_name": "Python 3 (ipykernel)",
   "language": "python",
   "name": "python3"
  },
  "language_info": {
   "codemirror_mode": {
    "name": "ipython",
    "version": 3
   },
   "file_extension": ".py",
   "mimetype": "text/x-python",
   "name": "python",
   "nbconvert_exporter": "python",
   "pygments_lexer": "ipython3",
   "version": "3.9.7"
  }
 },
 "nbformat": 4,
 "nbformat_minor": 5
}
